{
 "cells": [
  {
   "cell_type": "markdown",
   "metadata": {},
   "source": [
    "# Convert ldscores and annotations from ldsc.py to .mat format"
   ]
  },
  {
   "cell_type": "code",
   "execution_count": 1,
   "metadata": {
    "collapsed": false
   },
   "outputs": [
    {
     "name": "stdout",
     "output_type": "stream",
     "text": [
      "load reference\n",
      "Shape of ref file: (1190321, 6)\n",
      "Shape of ldscore file: (1290028, 2)\n",
      "Shape of ldscore file after merge: (1190321, 1)\n",
      "M_5_50=[[1173569]]\n",
      "['L2'] columns written to eur_w_ld.mat\n"
     ]
    }
   ],
   "source": [
    "import glob\n",
    "import pandas as pd\n",
    "import numpy as np\n",
    "import scipy.io as sio\n",
    "pd.set_option('precision', 4)\n",
    "np.set_printoptions(precision=4)\n",
    "\n",
    "if 'ref' not in globals():\n",
    "    print('load reference')\n",
    "    ref = pd.read_csv(r'H:\\Dropbox\\analysis\\2016_09_September_19_LDScoreRegression\\1m\\1m.ref', delim_whitespace=True);\n",
    "\n",
    "def convert_to_mat(file_chr, out, M=True, M_5_50=True, annot_files=True):\n",
    "    print('Shape of ref file: {shape}'.format(shape=ref.shape))\n",
    "\n",
    "    cnames = ['CHR', 'BP', 'CM', 'MAF']\n",
    "    df_ldscore = pd.concat([pd.read_csv('{f}{c}.l2.ldscore.gz'.format(f=file_chr, c=chr), delim_whitespace=True)  for chr in range(1, 23)])\n",
    "    for cname in [x for x in cnames if x in df_ldscore]: del df_ldscore[cname]\n",
    "    print('Shape of ldscore file: {shape}'.format(shape=df_ldscore.shape))\n",
    "    df_ldscore = pd.merge(ref[['SNP']], df_ldscore, how='left', on='SNP')\n",
    "    del df_ldscore['SNP']\n",
    "    print('Shape of ldscore file after merge: {shape}'.format(shape=df_ldscore.shape))\n",
    "    save_dict = { 'annonames':list(df_ldscore.columns), 'annomat':df_ldscore.values}\n",
    "\n",
    "    if M_5_50:\n",
    "        m_5_50 = pd.concat([pd.read_csv('{f}{c}.l2.M_5_50'.format(f=file_chr, c=chr), delim_whitespace=True, header=None) for chr in range(1, 23)])\n",
    "        m_5_50 = np.atleast_2d(m_5_50.sum().values)\n",
    "        print('M_5_50={}'.format(m_5_50))\n",
    "        save_dict['M_5_50']=m_5_50\n",
    "\n",
    "    if M:\n",
    "        m = pd.concat([pd.read_csv('{f}{c}.l2.M'.format(f=file_chr, c=chr), delim_whitespace=True, header=None) for chr in range(1, 23)])\n",
    "        m = np.atleast_2d(m.sum().values)\n",
    "        print('M={}'.format(m))\n",
    "        save_dict['M']=m\n",
    "\n",
    "    if annot_files:\n",
    "        df_annot = pd.concat([pd.read_csv('{f}{c}.annot.gz'.format(f=file_chr, c=chr), delim_whitespace=True) for chr in range(1, 23)])\n",
    "        for cname in [x for x in cnames if x in df_annot]: del df_annot[cname]\n",
    "        print('Shape of annots file: {shape}'.format(shape=df_annot.shape))\n",
    "        df_annot = pd.merge(ref[['SNP']], df_annot, how='left', on='SNP')\n",
    "        print('Shape of annots file after merge: {shape}'.format(shape=df_annot.shape))\n",
    "        del df_annot['SNP']\n",
    "        save_dict['annomat_bin'] = df_annot.values;\n",
    "  \n",
    "    sio.savemat(out, save_dict, format='5', do_compression=False, oned_as='column', appendmat=False)\n",
    "    print('{c} columns written to {f}'.format(c=list(df_ldscore.columns), f=out))\n",
    "\n",
    "convert_to_mat('eur_w_ld_chr\\\\', 'eur_w_ld.mat', M=False, annot_files=False)\n",
    "#convert_to_mat(r'1000G_Phase3_baselineLD_ldscores\\baselineLD.', 'baselineLD.mat')\n",
    "#convert_to_mat(r'1000G_EUR_Phase3_baseline\\baseline.', 'baseline.mat')\n",
    "#convert_to_mat(r'1000G_Phase3_weights_hm3_no_MHC\\weights.hm3_noMHC.', '1000G_Phase3_weights_hm3_no_MHC.mat', M=False, M_5_50=False, annot_files=False)\n",
    "#for ctg in range(1,11):\n",
    "#    convert_to_mat(r'1000G_Phase3_cell_type_groups\\cell_type_group.{}.'.format(ctg), 'cell_type_group.{}'.format(ctg))\n"
   ]
  },
  {
   "cell_type": "code",
   "execution_count": null,
   "metadata": {
    "collapsed": true
   },
   "outputs": [],
   "source": []
  }
 ],
 "metadata": {
  "anaconda-cloud": {},
  "kernelspec": {
   "display_name": "Python [conda root]",
   "language": "python",
   "name": "conda-root-py"
  },
  "language_info": {
   "codemirror_mode": {
    "name": "ipython",
    "version": 3
   },
   "file_extension": ".py",
   "mimetype": "text/x-python",
   "name": "python",
   "nbconvert_exporter": "python",
   "pygments_lexer": "ipython3",
   "version": "3.5.2"
  }
 },
 "nbformat": 4,
 "nbformat_minor": 1
}
