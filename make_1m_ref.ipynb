{
 "cells": [
  {
   "cell_type": "markdown",
   "metadata": {},
   "source": [
    "# Make 1m reference template\n",
    "from w_hm3.snplist intersect 100G_EUR_Phase3"
   ]
  },
  {
   "cell_type": "code",
   "execution_count": null,
   "metadata": {
    "collapsed": true
   },
   "outputs": [],
   "source": []
  },
  {
   "cell_type": "code",
   "execution_count": null,
   "metadata": {
    "collapsed": true
   },
   "outputs": [],
   "source": []
  },
  {
   "cell_type": "markdown",
   "metadata": {},
   "source": [
    "Number of SNPs in w_hm3.snplist --- 1217311\n",
    "\n",
    "Number of SNPs in 1000G_EUR_Phase3_plink --- 9997231\n",
    "\n",
    "Number of SNPs in both w_hm3 and 1000G_EUR_Phase3 --- 1190321\n",
    "\n",
    "Number of SNPs in baselineLD.{}.l2.ldscore.gz --- 1190321 .\n",
    "\n",
    "Good match! We can use these 1190321 SNPs as reference. \n",
    "However, the w_hm3.snplist file has only three columns (SNP, A1, A2). For the template we must have chrnumvec and posvec, which we should get from .bim files in 100G_EUR_Phase3. Some SNPs has flipped alleles.\n",
    "\n",
    "Build 37."
   ]
  },
  {
   "cell_type": "code",
   "execution_count": 19,
   "metadata": {},
   "outputs": [],
   "source": [
    "df=pd.read_csv(r'H:\\Dropbox\\analysis\\2016_09_September_19_LDScoreRegression\\1000G_EUR_Phase3_plink_merged\\w_hm3.snplist',sep='\\t')\n",
    "df['SNP'].to_csv('w_hm3', index=False,header=False)"
   ]
  },
  {
   "cell_type": "code",
   "execution_count": 26,
   "metadata": {
    "collapsed": true
   },
   "outputs": [],
   "source": [
    "# Re-save 1190321 SNPs in ref file with column names\n",
    "df = pd.read_csv(r'H:\\Dropbox\\analysis\\2016_09_September_19_LDScoreRegression\\1000G_EUR_Phase3_plink_merged\\w_hm3.bim',header=None,sep='\\t')\n",
    "df.columns=['CHR','SNP','GP','BP','A1','A2']\n",
    "df.to_csv('1m.ref',index=False,sep='\\t')"
   ]
  },
  {
   "cell_type": "code",
   "execution_count": 9,
   "metadata": {},
   "outputs": [],
   "source": [
    "import scipy.io as sio\n",
    "import pandas as pd\n",
    "df = pd.read_csv(r'H:\\Dropbox\\analysis\\2016_09_September_19_LDScoreRegression\\1m\\1m.ref',sep='\\t')\n",
    "save_dict = {'chrnumvec': df[\"CHR\"].values,'snpidlist': df[\"SNP\"].values,'posvec': df[\"BP\"].values,'A1vec': df[\"A1\"].values,'A2vec': df[\"A2\"].values}\n",
    "sio.savemat(\"infomat.mat\", save_dict, format='5', do_compression=False, oned_as='column', appendmat=False) # takes about 10 minutes"
   ]
  },
  {
   "cell_type": "code",
   "execution_count": null,
   "metadata": {
    "collapsed": true
   },
   "outputs": [],
   "source": []
  }
 ],
 "metadata": {
  "anaconda-cloud": {},
  "kernelspec": {
   "display_name": "Python 3 (ipykernel)",
   "language": "python",
   "name": "python3"
  },
  "language_info": {
   "codemirror_mode": {
    "name": "ipython",
    "version": 3
   },
   "file_extension": ".py",
   "mimetype": "text/x-python",
   "name": "python",
   "nbconvert_exporter": "python",
   "pygments_lexer": "ipython3",
   "version": "3.7.3"
  }
 },
 "nbformat": 4,
 "nbformat_minor": 1
}
